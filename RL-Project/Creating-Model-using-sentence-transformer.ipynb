{
 "cells": [
  {
   "cell_type": "code",
   "execution_count": 1,
   "id": "bda649fc-6964-4e08-8423-3cf263824fb4",
   "metadata": {},
   "outputs": [
    {
     "name": "stdout",
     "output_type": "stream",
     "text": [
      "WARNING:tensorflow:From C:\\Users\\ayush\\AppData\\Local\\Programs\\Python\\Python311\\Lib\\site-packages\\tf_keras\\src\\losses.py:2976: The name tf.losses.sparse_softmax_cross_entropy is deprecated. Please use tf.compat.v1.losses.sparse_softmax_cross_entropy instead.\n",
      "\n"
     ]
    }
   ],
   "source": [
    "import pandas as pd\n",
    "import numpy as np\n",
    "from sklearn.model_selection import train_test_split\n",
    "from sklearn.preprocessing import LabelEncoder\n",
    "from sklearn.metrics import accuracy_score, f1_score\n",
    "import torch\n",
    "import torch.nn as nn\n",
    "import torch.optim as optim\n",
    "from sentence_transformers import SentenceTransformer"
   ]
  },
  {
   "cell_type": "code",
   "execution_count": 2,
   "id": "61f191e2-0e2b-4714-a0d1-31313ebc05c6",
   "metadata": {},
   "outputs": [
    {
     "data": {
      "application/vnd.jupyter.widget-view+json": {
       "model_id": "175e8578883c4bec829bc1e3b974bc78",
       "version_major": 2,
       "version_minor": 0
      },
      "text/plain": [
       "modules.json:   0%|          | 0.00/349 [00:00<?, ?B/s]"
      ]
     },
     "metadata": {},
     "output_type": "display_data"
    },
    {
     "name": "stderr",
     "output_type": "stream",
     "text": [
      "C:\\Users\\ayush\\AppData\\Local\\Programs\\Python\\Python311\\Lib\\site-packages\\huggingface_hub\\file_download.py:140: UserWarning: `huggingface_hub` cache-system uses symlinks by default to efficiently store duplicated files but your machine does not support them in C:\\Users\\ayush\\.cache\\huggingface\\hub\\models--sentence-transformers--all-MiniLM-L6-v2. Caching files will still work but in a degraded version that might require more space on your disk. This warning can be disabled by setting the `HF_HUB_DISABLE_SYMLINKS_WARNING` environment variable. For more details, see https://huggingface.co/docs/huggingface_hub/how-to-cache#limitations.\n",
      "To support symlinks on Windows, you either need to activate Developer Mode or to run Python as an administrator. In order to activate developer mode, see this article: https://docs.microsoft.com/en-us/windows/apps/get-started/enable-your-device-for-development\n",
      "  warnings.warn(message)\n"
     ]
    },
    {
     "data": {
      "application/vnd.jupyter.widget-view+json": {
       "model_id": "6c9a5950cecf4331b224e6c364db829b",
       "version_major": 2,
       "version_minor": 0
      },
      "text/plain": [
       "config_sentence_transformers.json:   0%|          | 0.00/116 [00:00<?, ?B/s]"
      ]
     },
     "metadata": {},
     "output_type": "display_data"
    },
    {
     "data": {
      "application/vnd.jupyter.widget-view+json": {
       "model_id": "6e3c72e29bfa4822840925e9274fb003",
       "version_major": 2,
       "version_minor": 0
      },
      "text/plain": [
       "README.md:   0%|          | 0.00/10.5k [00:00<?, ?B/s]"
      ]
     },
     "metadata": {},
     "output_type": "display_data"
    },
    {
     "data": {
      "application/vnd.jupyter.widget-view+json": {
       "model_id": "84fe845381ae4a4ea3bb65cc79a2c5da",
       "version_major": 2,
       "version_minor": 0
      },
      "text/plain": [
       "sentence_bert_config.json:   0%|          | 0.00/53.0 [00:00<?, ?B/s]"
      ]
     },
     "metadata": {},
     "output_type": "display_data"
    },
    {
     "data": {
      "application/vnd.jupyter.widget-view+json": {
       "model_id": "a7810bada8a847e0b69753ee7a43f1be",
       "version_major": 2,
       "version_minor": 0
      },
      "text/plain": [
       "config.json:   0%|          | 0.00/612 [00:00<?, ?B/s]"
      ]
     },
     "metadata": {},
     "output_type": "display_data"
    },
    {
     "data": {
      "application/vnd.jupyter.widget-view+json": {
       "model_id": "6f7a62f445fe42d8965bdeffc08ac989",
       "version_major": 2,
       "version_minor": 0
      },
      "text/plain": [
       "model.safetensors:   0%|          | 0.00/90.9M [00:00<?, ?B/s]"
      ]
     },
     "metadata": {},
     "output_type": "display_data"
    },
    {
     "data": {
      "application/vnd.jupyter.widget-view+json": {
       "model_id": "7e0e9d5503a04359b5a97ff282ca3061",
       "version_major": 2,
       "version_minor": 0
      },
      "text/plain": [
       "tokenizer_config.json:   0%|          | 0.00/350 [00:00<?, ?B/s]"
      ]
     },
     "metadata": {},
     "output_type": "display_data"
    },
    {
     "data": {
      "application/vnd.jupyter.widget-view+json": {
       "model_id": "0bd4c483ac4441dd9dbc99ce6ac4f5a5",
       "version_major": 2,
       "version_minor": 0
      },
      "text/plain": [
       "vocab.txt:   0%|          | 0.00/232k [00:00<?, ?B/s]"
      ]
     },
     "metadata": {},
     "output_type": "display_data"
    },
    {
     "data": {
      "application/vnd.jupyter.widget-view+json": {
       "model_id": "439623444baf467c8e2df7ab5e25cbd3",
       "version_major": 2,
       "version_minor": 0
      },
      "text/plain": [
       "tokenizer.json:   0%|          | 0.00/466k [00:00<?, ?B/s]"
      ]
     },
     "metadata": {},
     "output_type": "display_data"
    },
    {
     "data": {
      "application/vnd.jupyter.widget-view+json": {
       "model_id": "8c308f39bd1c437b811e6a97be8a3360",
       "version_major": 2,
       "version_minor": 0
      },
      "text/plain": [
       "special_tokens_map.json:   0%|          | 0.00/112 [00:00<?, ?B/s]"
      ]
     },
     "metadata": {},
     "output_type": "display_data"
    },
    {
     "data": {
      "application/vnd.jupyter.widget-view+json": {
       "model_id": "f09848f4554a474db5eda950a88ff2b9",
       "version_major": 2,
       "version_minor": 0
      },
      "text/plain": [
       "config.json:   0%|          | 0.00/190 [00:00<?, ?B/s]"
      ]
     },
     "metadata": {},
     "output_type": "display_data"
    },
    {
     "data": {
      "application/vnd.jupyter.widget-view+json": {
       "model_id": "bfa4da1f8add4cc28a15021bee6cd7e8",
       "version_major": 2,
       "version_minor": 0
      },
      "text/plain": [
       "Batches:   0%|          | 0/183 [00:00<?, ?it/s]"
      ]
     },
     "metadata": {},
     "output_type": "display_data"
    }
   ],
   "source": [
    "df = pd.read_csv(\"data.csv\")\n",
    "\n",
    "label_encoder = LabelEncoder()\n",
    "df['Sentiment_Label'] = label_encoder.fit_transform(df['Sentiment'])\n",
    "\n",
    "embedder = SentenceTransformer('all-MiniLM-L6-v2')\n",
    "X = embedder.encode(df['Sentence'], show_progress_bar=True)\n",
    "y = df['Sentiment_Label'].values"
   ]
  },
  {
   "cell_type": "code",
   "execution_count": 3,
   "id": "818e93a3-7675-42e2-b5cc-ca91183c8057",
   "metadata": {},
   "outputs": [],
   "source": [
    "# Train-test split\n",
    "X_train, X_test, y_train, y_test = train_test_split(X, y, test_size=0.2, random_state=42)"
   ]
  },
  {
   "cell_type": "code",
   "execution_count": 4,
   "id": "32d404ed-d817-4bf1-8e80-078fc0d0f41c",
   "metadata": {},
   "outputs": [],
   "source": [
    "# RL Environment\n",
    "class SentimentEnv:\n",
    "    def __init__(self, X, y):\n",
    "        self.X = X\n",
    "        self.y = y\n",
    "        self.index = 0\n",
    "\n",
    "    def reset(self):\n",
    "        self.index = 0\n",
    "        return self.X[self.index]\n",
    "\n",
    "    def step(self, action):\n",
    "        reward = 2 if action == self.y[self.index] else -1\n",
    "        self.index += 1\n",
    "        done = self.index >= len(self.X)\n",
    "        state = None if done else self.X[self.index]\n",
    "        return state, reward, done\n",
    "\n",
    "# Improved Policy Network\n",
    "class PolicyNet(nn.Module):\n",
    "    def __init__(self, input_dim, output_dim):\n",
    "        super(PolicyNet, self).__init__()\n",
    "        self.net = nn.Sequential(\n",
    "            nn.Linear(input_dim, 256),\n",
    "            nn.ReLU(),\n",
    "            nn.Dropout(0.3),\n",
    "            nn.Linear(256, 128),\n",
    "            nn.ReLU(),\n",
    "            nn.Dropout(0.3),\n",
    "            nn.Linear(128, output_dim),\n",
    "            nn.Softmax(dim=-1)\n",
    "        )\n",
    "\n",
    "    def forward(self, x):\n",
    "        return self.net(x)"
   ]
  },
  {
   "cell_type": "code",
   "execution_count": 6,
   "id": "88d0111f-676b-4f3a-bd1e-bb29e20f017c",
   "metadata": {},
   "outputs": [],
   "source": [
    "# Initialize environment and model\n",
    "env = SentimentEnv(X_train, y_train)\n",
    "input_dim = X_train.shape[1]\n",
    "output_dim = len(np.unique(y))\n",
    "policy_net = PolicyNet(input_dim, output_dim)\n",
    "optimizer = optim.Adam(policy_net.parameters(), lr=0.001, weight_decay=1e-5)"
   ]
  },
  {
   "cell_type": "code",
   "execution_count": 7,
   "id": "910451d1-b665-4aed-a6c8-7fd1e1b0d4b2",
   "metadata": {},
   "outputs": [
    {
     "name": "stdout",
     "output_type": "stream",
     "text": [
      "Epoch 1, Total reward: -272\n",
      "Epoch 2, Total reward: 40\n",
      "Epoch 3, Total reward: -32\n",
      "Epoch 4, Total reward: -17\n",
      "Epoch 5, Total reward: -89\n",
      "Epoch 6, Total reward: 355\n",
      "Epoch 7, Total reward: 154\n",
      "Epoch 8, Total reward: 352\n",
      "Epoch 9, Total reward: 154\n",
      "Epoch 10, Total reward: 412\n",
      "Epoch 11, Total reward: 598\n",
      "Epoch 12, Total reward: 694\n",
      "Epoch 13, Total reward: 859\n",
      "Epoch 14, Total reward: 925\n",
      "Epoch 15, Total reward: 1030\n",
      "Epoch 16, Total reward: 1135\n",
      "Epoch 17, Total reward: 1462\n",
      "Epoch 18, Total reward: 1534\n",
      "Epoch 19, Total reward: 1750\n",
      "Epoch 20, Total reward: 2041\n"
     ]
    }
   ],
   "source": [
    "# Training with REINFORCE\n",
    "epochs = 20\n",
    "for epoch in range(epochs):\n",
    "    state = env.reset()\n",
    "    log_probs = []\n",
    "    rewards = []\n",
    "    while True:\n",
    "        state_tensor = torch.FloatTensor(state)\n",
    "        probs = policy_net(state_tensor)\n",
    "        dist = torch.distributions.Categorical(probs)\n",
    "        action = dist.sample()\n",
    "        log_prob = dist.log_prob(action)\n",
    "        log_probs.append(log_prob)\n",
    "\n",
    "        next_state, reward, done = env.step(action.item())\n",
    "        rewards.append(reward)\n",
    "\n",
    "        if done:\n",
    "            break\n",
    "        state = next_state\n",
    "\n",
    "    # Compute loss\n",
    "    loss = -torch.stack(log_probs) * torch.FloatTensor(rewards)\n",
    "    loss = loss.sum()\n",
    "\n",
    "    optimizer.zero_grad()\n",
    "    loss.backward()\n",
    "    optimizer.step()\n",
    "\n",
    "    print(f\"Epoch {epoch+1}, Total reward: {sum(rewards)}\")\n"
   ]
  },
  {
   "cell_type": "code",
   "execution_count": 8,
   "id": "3a5be7fe-4daa-40e6-bd3f-a53fdc64dc4c",
   "metadata": {},
   "outputs": [],
   "source": [
    "# Evaluate\n",
    "policy_net.eval()\n",
    "preds = []\n",
    "for x in X_test:\n",
    "    with torch.no_grad():\n",
    "        probs = policy_net(torch.FloatTensor(x))\n",
    "        pred = torch.argmax(probs).item()\n",
    "        preds.append(pred)\n"
   ]
  },
  {
   "cell_type": "code",
   "execution_count": 9,
   "id": "963c2671-f7df-482a-b280-b2924a588d84",
   "metadata": {},
   "outputs": [
    {
     "name": "stdout",
     "output_type": "stream",
     "text": [
      "Accuracy: 0.5320786997433704\n",
      "F1 Score: 0.36957336821929243\n"
     ]
    }
   ],
   "source": [
    "print(\"Accuracy:\", accuracy_score(y_test, preds))\n",
    "print(\"F1 Score:\", f1_score(y_test, preds, average='weighted'))"
   ]
  },
  {
   "cell_type": "code",
   "execution_count": null,
   "id": "e296acca-541c-4796-a2c0-c36f4ee76ef0",
   "metadata": {},
   "outputs": [],
   "source": []
  }
 ],
 "metadata": {
  "kernelspec": {
   "display_name": "Python 3 (ipykernel)",
   "language": "python",
   "name": "python3"
  },
  "language_info": {
   "codemirror_mode": {
    "name": "ipython",
    "version": 3
   },
   "file_extension": ".py",
   "mimetype": "text/x-python",
   "name": "python",
   "nbconvert_exporter": "python",
   "pygments_lexer": "ipython3",
   "version": "3.11.2"
  }
 },
 "nbformat": 4,
 "nbformat_minor": 5
}
