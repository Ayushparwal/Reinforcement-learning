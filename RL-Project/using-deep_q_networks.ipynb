{
 "cells": [
  {
   "cell_type": "code",
   "execution_count": 1,
   "id": "841156de-fd55-46dd-9bb9-df05634f97f7",
   "metadata": {},
   "outputs": [],
   "source": [
    "import random\n",
    "import numpy as np\n",
    "import pandas as pd\n",
    "from sklearn.feature_extraction.text import TfidfVectorizer\n",
    "from sklearn.model_selection import train_test_split\n",
    "import torch\n",
    "import torch.nn as nn\n",
    "import torch.optim as optim\n",
    "import torch.nn.functional as F\n",
    "from collections import deque"
   ]
  },
  {
   "cell_type": "code",
   "execution_count": 2,
   "id": "ebf33223-1240-4c10-aa16-07c42a037656",
   "metadata": {},
   "outputs": [],
   "source": [
    "df = pd.read_csv(\"data.csv\")\n",
    "sentences = df['Sentence'].values\n",
    "labels = df['Sentiment'].map({'negative': 0, 'neutral': 1, 'positive': 2}).values"
   ]
  },
  {
   "cell_type": "code",
   "execution_count": 3,
   "id": "6849a949-692c-49e8-91e4-c224ebc12c71",
   "metadata": {},
   "outputs": [
    {
     "data": {
      "text/html": [
       "<div>\n",
       "<style scoped>\n",
       "    .dataframe tbody tr th:only-of-type {\n",
       "        vertical-align: middle;\n",
       "    }\n",
       "\n",
       "    .dataframe tbody tr th {\n",
       "        vertical-align: top;\n",
       "    }\n",
       "\n",
       "    .dataframe thead th {\n",
       "        text-align: right;\n",
       "    }\n",
       "</style>\n",
       "<table border=\"1\" class=\"dataframe\">\n",
       "  <thead>\n",
       "    <tr style=\"text-align: right;\">\n",
       "      <th></th>\n",
       "      <th>Sentence</th>\n",
       "      <th>Sentiment</th>\n",
       "    </tr>\n",
       "  </thead>\n",
       "  <tbody>\n",
       "    <tr>\n",
       "      <th>0</th>\n",
       "      <td>The GeoSolutions technology will leverage Bene...</td>\n",
       "      <td>positive</td>\n",
       "    </tr>\n",
       "    <tr>\n",
       "      <th>1</th>\n",
       "      <td>$ESI on lows, down $1.50 to $2.50 BK a real po...</td>\n",
       "      <td>negative</td>\n",
       "    </tr>\n",
       "    <tr>\n",
       "      <th>2</th>\n",
       "      <td>For the last quarter of 2010 , Componenta 's n...</td>\n",
       "      <td>positive</td>\n",
       "    </tr>\n",
       "    <tr>\n",
       "      <th>3</th>\n",
       "      <td>According to the Finnish-Russian Chamber of Co...</td>\n",
       "      <td>neutral</td>\n",
       "    </tr>\n",
       "    <tr>\n",
       "      <th>4</th>\n",
       "      <td>The Swedish buyout firm has sold its remaining...</td>\n",
       "      <td>neutral</td>\n",
       "    </tr>\n",
       "  </tbody>\n",
       "</table>\n",
       "</div>"
      ],
      "text/plain": [
       "                                            Sentence Sentiment\n",
       "0  The GeoSolutions technology will leverage Bene...  positive\n",
       "1  $ESI on lows, down $1.50 to $2.50 BK a real po...  negative\n",
       "2  For the last quarter of 2010 , Componenta 's n...  positive\n",
       "3  According to the Finnish-Russian Chamber of Co...   neutral\n",
       "4  The Swedish buyout firm has sold its remaining...   neutral"
      ]
     },
     "execution_count": 3,
     "metadata": {},
     "output_type": "execute_result"
    }
   ],
   "source": [
    "df.head()"
   ]
  },
  {
   "cell_type": "code",
   "execution_count": 4,
   "id": "3a7e139f-b282-467b-ae1c-d351f54f748f",
   "metadata": {},
   "outputs": [],
   "source": [
    "# TF-IDF encoding\n",
    "vectorizer = TfidfVectorizer(max_features=1000)\n",
    "X = vectorizer.fit_transform(sentences).toarray()"
   ]
  },
  {
   "cell_type": "code",
   "execution_count": 5,
   "id": "f73a0d76-9461-4280-a41e-18dbe927b59e",
   "metadata": {},
   "outputs": [],
   "source": [
    "X_train, X_test, y_train, y_test = train_test_split(X, labels, test_size=0.2, random_state=42)\n"
   ]
  },
  {
   "cell_type": "code",
   "execution_count": 6,
   "id": "e0ed13cf-d4f3-400e-976f-d76a1696b361",
   "metadata": {},
   "outputs": [],
   "source": [
    "# Hyperparameters\n",
    "num_actions = 3\n",
    "state_size = X.shape[1]\n",
    "epsilon = 1.0\n",
    "epsilon_min = 0.01\n",
    "epsilon_decay = 0.995\n",
    "gamma = 0.95\n",
    "lr = 0.001\n",
    "batch_size = 64\n",
    "memory = deque(maxlen=2000)"
   ]
  },
  {
   "cell_type": "code",
   "execution_count": 7,
   "id": "852c8db7-1430-498f-88c4-def56e555fbd",
   "metadata": {},
   "outputs": [],
   "source": [
    "# DQN Model\n",
    "class DQN(nn.Module):\n",
    "    def __init__(self, input_dim, output_dim):\n",
    "        super(DQN, self).__init__()\n",
    "        self.fc1 = nn.Linear(input_dim, 128)\n",
    "        self.fc2 = nn.Linear(128, 64)\n",
    "        self.out = nn.Linear(64, output_dim)\n",
    "\n",
    "    def forward(self, x):\n",
    "        x = F.relu(self.fc1(x))\n",
    "        x = F.relu(self.fc2(x))\n",
    "        return self.out(x)"
   ]
  },
  {
   "cell_type": "code",
   "execution_count": 8,
   "id": "c04c3a1a-89d2-488d-ae5b-c10f0306aff1",
   "metadata": {},
   "outputs": [],
   "source": [
    "model = DQN(state_size, num_actions)\n",
    "optimizer = optim.Adam(model.parameters(), lr=lr)\n",
    "loss_fn = nn.MSELoss()"
   ]
  },
  {
   "cell_type": "code",
   "execution_count": 9,
   "id": "d06bbee5-ca46-487b-a753-1b5c9721f86f",
   "metadata": {},
   "outputs": [],
   "source": [
    "# Helper functions\n",
    "def act(state):\n",
    "    global epsilon\n",
    "    if np.random.rand() <= epsilon:\n",
    "        return random.randrange(num_actions)\n",
    "    state = torch.FloatTensor(state).unsqueeze(0)\n",
    "    with torch.no_grad():\n",
    "        q_values = model(state)\n",
    "    return torch.argmax(q_values).item()"
   ]
  },
  {
   "cell_type": "code",
   "execution_count": 10,
   "id": "6b15df5c-c0b3-4e30-8979-22ef2f1d6a6f",
   "metadata": {},
   "outputs": [],
   "source": [
    "def replay():\n",
    "    global epsilon\n",
    "    if len(memory) < batch_size:\n",
    "        return\n",
    "    minibatch = random.sample(memory, batch_size)\n",
    "    for state, action, reward, next_state, done in minibatch:\n",
    "        state = torch.FloatTensor(state)\n",
    "        next_state = torch.FloatTensor(next_state)\n",
    "        target = reward\n",
    "        if not done:\n",
    "            target += gamma * torch.max(model(next_state)).item()\n",
    "        target_f = model(state)\n",
    "        target_val = target_f.clone()\n",
    "        target_val[action] = target\n",
    "        optimizer.zero_grad()\n",
    "        loss = loss_fn(target_f, target_val.detach())\n",
    "        loss.backward()\n",
    "        optimizer.step()\n",
    "    if epsilon > epsilon_min:\n",
    "        epsilon *= epsilon_decay"
   ]
  },
  {
   "cell_type": "code",
   "execution_count": null,
   "id": "67ce85fd-7a00-4741-b96d-86739f992597",
   "metadata": {},
   "outputs": [
    {
     "name": "stdout",
     "output_type": "stream",
     "text": [
      "Episode 1/10 completed. Epsilon: 0.01\n"
     ]
    }
   ],
   "source": [
    "episodes = 10\n",
    "for e in range(episodes):\n",
    "    for i in range(len(X_train)):\n",
    "        state = X_train[i]\n",
    "        action = act(state)\n",
    "        reward = 1 if action == y_train[i] else -1\n",
    "        done = True  # one-step episode\n",
    "        next_state = X_train[i]\n",
    "        memory.append((state, action, reward, next_state, done))\n",
    "        replay()\n",
    "    print(f\"Episode {e+1}/{episodes} completed. Epsilon: {epsilon:.2f}\")"
   ]
  },
  {
   "cell_type": "code",
   "execution_count": null,
   "id": "61ed2f39-354a-4b12-97a1-d3d8bc32b588",
   "metadata": {},
   "outputs": [],
   "source": [
    "correct = 0\n",
    "total = len(X_test)\n",
    "for i in range(total):\n",
    "    state = torch.FloatTensor(X_test[i]).unsqueeze(0)\n",
    "    with torch.no_grad():\n",
    "        pred = torch.argmax(model(state)).item()\n",
    "    if pred == y_test[i]:\n",
    "        correct += 1\n",
    "print(f\"Test Accuracy: {100 * correct / total:.2f}%\")"
   ]
  },
  {
   "cell_type": "code",
   "execution_count": null,
   "id": "e609dbeb-2136-4323-a824-9791fd7caff8",
   "metadata": {},
   "outputs": [],
   "source": []
  }
 ],
 "metadata": {
  "kernelspec": {
   "display_name": "Python 3 (ipykernel)",
   "language": "python",
   "name": "python3"
  },
  "language_info": {
   "codemirror_mode": {
    "name": "ipython",
    "version": 3
   },
   "file_extension": ".py",
   "mimetype": "text/x-python",
   "name": "python",
   "nbconvert_exporter": "python",
   "pygments_lexer": "ipython3",
   "version": "3.11.2"
  }
 },
 "nbformat": 4,
 "nbformat_minor": 5
}
