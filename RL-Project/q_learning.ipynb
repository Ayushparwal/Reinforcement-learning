{
 "cells": [
  {
   "cell_type": "code",
   "execution_count": 1,
   "id": "af5f499a-6c4d-4b45-be0a-7ab45120a52c",
   "metadata": {},
   "outputs": [],
   "source": [
    "import random\n",
    "import numpy as np\n",
    "import pandas as pd\n",
    "from sklearn.feature_extraction.text import TfidfVectorizer\n",
    "from sklearn.model_selection import train_test_split"
   ]
  },
  {
   "cell_type": "code",
   "execution_count": 2,
   "id": "00058f06-b632-4237-8227-83c62d6967c7",
   "metadata": {},
   "outputs": [],
   "source": [
    "df = pd.read_csv(\"data.csv\")\n",
    "sentences = df['Sentence'].values\n",
    "labels = df['Sentiment'].map({'negative': 0, 'neutral': 1, 'positive': 2}).values"
   ]
  },
  {
   "cell_type": "code",
   "execution_count": 3,
   "id": "86cc27b1-7dff-48bd-8e6a-e5366f441910",
   "metadata": {},
   "outputs": [],
   "source": [
    "# TF-IDF encoding\n",
    "vectorizer = TfidfVectorizer(max_features=1000)\n",
    "X = vectorizer.fit_transform(sentences).toarray()"
   ]
  },
  {
   "cell_type": "code",
   "execution_count": 4,
   "id": "044a818f-8347-42cf-86b5-c8a523970128",
   "metadata": {},
   "outputs": [],
   "source": [
    "# Train-test split\n",
    "X_train, X_test, y_train, y_test = train_test_split(X, labels, test_size=0.2, random_state=42)"
   ]
  },
  {
   "cell_type": "code",
   "execution_count": 5,
   "id": "72d8dddd-543f-48ea-888d-5f08383b60a8",
   "metadata": {},
   "outputs": [],
   "source": [
    "# Initialize Q-table\n",
    "num_actions = 3\n",
    "state_size = X.shape[1]\n",
    "q_table = np.zeros((len(X_train), num_actions))"
   ]
  },
  {
   "cell_type": "code",
   "execution_count": 6,
   "id": "806e7e34-6b6d-4542-9da2-5eb4e0149d70",
   "metadata": {},
   "outputs": [],
   "source": [
    "# Hyperparameters\n",
    "epsilon = 1.0\n",
    "epsilon_min = 0.01\n",
    "epsilon_decay = 0.995\n",
    "gamma = 0.95\n",
    "alpha = 0.1  # learning rate\n",
    "episodes = 10"
   ]
  },
  {
   "cell_type": "code",
   "execution_count": 7,
   "id": "cd751929-cd92-4314-9ac0-c178ba742ac5",
   "metadata": {},
   "outputs": [],
   "source": [
    "# Helper function to choose action\n",
    "def act_q_learning(state_idx):\n",
    "    if np.random.rand() <= epsilon:\n",
    "        return random.randrange(num_actions)\n",
    "    return np.argmax(q_table[state_idx])"
   ]
  },
  {
   "cell_type": "code",
   "execution_count": 8,
   "id": "add2760c-6f2d-41a8-b6ed-e587558da7d2",
   "metadata": {},
   "outputs": [
    {
     "name": "stdout",
     "output_type": "stream",
     "text": [
      "Episode 1/10 completed. Epsilon: 0.99\n",
      "Episode 2/10 completed. Epsilon: 0.99\n",
      "Episode 3/10 completed. Epsilon: 0.99\n",
      "Episode 4/10 completed. Epsilon: 0.98\n",
      "Episode 5/10 completed. Epsilon: 0.98\n",
      "Episode 6/10 completed. Epsilon: 0.97\n",
      "Episode 7/10 completed. Epsilon: 0.97\n",
      "Episode 8/10 completed. Epsilon: 0.96\n",
      "Episode 9/10 completed. Epsilon: 0.96\n",
      "Episode 10/10 completed. Epsilon: 0.95\n"
     ]
    }
   ],
   "source": [
    "# Training loop\n",
    "for e in range(episodes):\n",
    "    for i in range(len(X_train)):\n",
    "        action = act_q_learning(i)\n",
    "        reward = 1 if action == y_train[i] else -1\n",
    "        next_max = np.max(q_table[i])\n",
    "        q_table[i][action] = q_table[i][action] + alpha * (reward + gamma * next_max - q_table[i][action])\n",
    "    if epsilon > epsilon_min:\n",
    "        epsilon *= epsilon_decay\n",
    "    print(f\"Episode {e+1}/{episodes} completed. Epsilon: {epsilon:.2f}\")"
   ]
  },
  {
   "cell_type": "code",
   "execution_count": 9,
   "id": "56cc5090-133d-4c4b-ab19-f18a70311313",
   "metadata": {},
   "outputs": [
    {
     "name": "stdout",
     "output_type": "stream",
     "text": [
      "Test Accuracy: 40.46%\n"
     ]
    }
   ],
   "source": [
    "correct = 0\n",
    "total = len(X_test)\n",
    "X_test_transformed = vectorizer.transform(df['Sentence'].iloc[X_train.shape[0]:]).toarray()\n",
    "for i in range(total):\n",
    "    state_vec = X_test_transformed[i]\n",
    "    idx = np.argmin(np.linalg.norm(X_train - state_vec, axis=1))\n",
    "    action = np.argmax(q_table[idx])\n",
    "    if action == y_test[i]:\n",
    "        correct += 1\n",
    "print(f\"Test Accuracy: {100 * correct / total:.2f}%\")"
   ]
  },
  {
   "cell_type": "code",
   "execution_count": null,
   "id": "d150d19a-044f-43c5-973c-6a9db7a26b57",
   "metadata": {},
   "outputs": [],
   "source": []
  }
 ],
 "metadata": {
  "kernelspec": {
   "display_name": "Python 3 (ipykernel)",
   "language": "python",
   "name": "python3"
  },
  "language_info": {
   "codemirror_mode": {
    "name": "ipython",
    "version": 3
   },
   "file_extension": ".py",
   "mimetype": "text/x-python",
   "name": "python",
   "nbconvert_exporter": "python",
   "pygments_lexer": "ipython3",
   "version": "3.11.2"
  }
 },
 "nbformat": 4,
 "nbformat_minor": 5
}
