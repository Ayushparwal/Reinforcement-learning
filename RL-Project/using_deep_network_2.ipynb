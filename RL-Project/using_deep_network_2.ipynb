{
 "cells": [
  {
   "cell_type": "code",
   "execution_count": 1,
   "id": "f393b8b1-d46f-4dd3-8e12-e7b74ee2df29",
   "metadata": {},
   "outputs": [],
   "source": [
    "import random\n",
    "import re\n",
    "import numpy as np\n",
    "import pandas as pd\n",
    "from sklearn.feature_extraction.text import TfidfVectorizer\n",
    "from sklearn.model_selection import train_test_split\n",
    "import torch\n",
    "import torch.nn as nn\n",
    "import torch.optim as optim\n",
    "import torch.nn.functional as F\n",
    "from collections import deque\n",
    "\n",
    "# Function to clean text\n",
    "def clean_text(text):\n",
    "    text = re.sub(r'<.*?>', '', text)  # remove HTML tags\n",
    "    text = re.sub(r'[^\\w\\s]', '', text)  # remove special characters\n",
    "    text = re.sub(r'\\d+', '', text)  # remove numbers\n",
    "    text = text.lower().strip()  # lowercase and strip whitespace\n",
    "    return text\n",
    "\n",
    "# Load and clean data\n",
    "df = pd.read_csv(\"data.csv\")\n"
   ]
  },
  {
   "cell_type": "code",
   "execution_count": 2,
   "id": "f5a145d6-4fe5-4c50-9463-a1f08a799407",
   "metadata": {},
   "outputs": [
    {
     "data": {
      "text/html": [
       "<div>\n",
       "<style scoped>\n",
       "    .dataframe tbody tr th:only-of-type {\n",
       "        vertical-align: middle;\n",
       "    }\n",
       "\n",
       "    .dataframe tbody tr th {\n",
       "        vertical-align: top;\n",
       "    }\n",
       "\n",
       "    .dataframe thead th {\n",
       "        text-align: right;\n",
       "    }\n",
       "</style>\n",
       "<table border=\"1\" class=\"dataframe\">\n",
       "  <thead>\n",
       "    <tr style=\"text-align: right;\">\n",
       "      <th></th>\n",
       "      <th>Sentence</th>\n",
       "      <th>Sentiment</th>\n",
       "    </tr>\n",
       "  </thead>\n",
       "  <tbody>\n",
       "    <tr>\n",
       "      <th>0</th>\n",
       "      <td>The GeoSolutions technology will leverage Bene...</td>\n",
       "      <td>positive</td>\n",
       "    </tr>\n",
       "    <tr>\n",
       "      <th>1</th>\n",
       "      <td>$ESI on lows, down $1.50 to $2.50 BK a real po...</td>\n",
       "      <td>negative</td>\n",
       "    </tr>\n",
       "    <tr>\n",
       "      <th>2</th>\n",
       "      <td>For the last quarter of 2010 , Componenta 's n...</td>\n",
       "      <td>positive</td>\n",
       "    </tr>\n",
       "    <tr>\n",
       "      <th>3</th>\n",
       "      <td>According to the Finnish-Russian Chamber of Co...</td>\n",
       "      <td>neutral</td>\n",
       "    </tr>\n",
       "    <tr>\n",
       "      <th>4</th>\n",
       "      <td>The Swedish buyout firm has sold its remaining...</td>\n",
       "      <td>neutral</td>\n",
       "    </tr>\n",
       "  </tbody>\n",
       "</table>\n",
       "</div>"
      ],
      "text/plain": [
       "                                            Sentence Sentiment\n",
       "0  The GeoSolutions technology will leverage Bene...  positive\n",
       "1  $ESI on lows, down $1.50 to $2.50 BK a real po...  negative\n",
       "2  For the last quarter of 2010 , Componenta 's n...  positive\n",
       "3  According to the Finnish-Russian Chamber of Co...   neutral\n",
       "4  The Swedish buyout firm has sold its remaining...   neutral"
      ]
     },
     "execution_count": 2,
     "metadata": {},
     "output_type": "execute_result"
    }
   ],
   "source": [
    "df.head()"
   ]
  },
  {
   "cell_type": "code",
   "execution_count": 3,
   "id": "6d4de1e6-270f-4209-8d88-4cf3a072e7e7",
   "metadata": {},
   "outputs": [
    {
     "data": {
      "text/plain": [
       "(5842, 2)"
      ]
     },
     "execution_count": 3,
     "metadata": {},
     "output_type": "execute_result"
    }
   ],
   "source": [
    "df.shape"
   ]
  },
  {
   "cell_type": "code",
   "execution_count": 4,
   "id": "2633166e-e8ab-4b16-919e-17b165a1e2cc",
   "metadata": {},
   "outputs": [
    {
     "data": {
      "text/plain": [
       "11684"
      ]
     },
     "execution_count": 4,
     "metadata": {},
     "output_type": "execute_result"
    }
   ],
   "source": [
    "df.size"
   ]
  },
  {
   "cell_type": "code",
   "execution_count": 5,
   "id": "4aca070a-20f1-487e-a214-948057ab1ecf",
   "metadata": {},
   "outputs": [],
   "source": [
    "df = df.sample(1000, random_state=42, )"
   ]
  },
  {
   "cell_type": "code",
   "execution_count": 6,
   "id": "309db51b-2374-4afc-aa95-041e9507bd0b",
   "metadata": {},
   "outputs": [
    {
     "data": {
      "text/html": [
       "<div>\n",
       "<style scoped>\n",
       "    .dataframe tbody tr th:only-of-type {\n",
       "        vertical-align: middle;\n",
       "    }\n",
       "\n",
       "    .dataframe tbody tr th {\n",
       "        vertical-align: top;\n",
       "    }\n",
       "\n",
       "    .dataframe thead th {\n",
       "        text-align: right;\n",
       "    }\n",
       "</style>\n",
       "<table border=\"1\" class=\"dataframe\">\n",
       "  <thead>\n",
       "    <tr style=\"text-align: right;\">\n",
       "      <th></th>\n",
       "      <th>Sentence</th>\n",
       "      <th>Sentiment</th>\n",
       "    </tr>\n",
       "  </thead>\n",
       "  <tbody>\n",
       "    <tr>\n",
       "      <th>4584</th>\n",
       "      <td>A few employees would remain at the Oulu plant...</td>\n",
       "      <td>neutral</td>\n",
       "    </tr>\n",
       "    <tr>\n",
       "      <th>177</th>\n",
       "      <td>Comparable net sales are expected to increase ...</td>\n",
       "      <td>positive</td>\n",
       "    </tr>\n",
       "    <tr>\n",
       "      <th>167</th>\n",
       "      <td>Tesla is recalling 2,700 Model X cars: https:/...</td>\n",
       "      <td>negative</td>\n",
       "    </tr>\n",
       "    <tr>\n",
       "      <th>5585</th>\n",
       "      <td>Finnish software developer Done Solutions Oyj ...</td>\n",
       "      <td>positive</td>\n",
       "    </tr>\n",
       "    <tr>\n",
       "      <th>2339</th>\n",
       "      <td>Compagnie de Financement Foncier - Is to issue...</td>\n",
       "      <td>neutral</td>\n",
       "    </tr>\n",
       "  </tbody>\n",
       "</table>\n",
       "</div>"
      ],
      "text/plain": [
       "                                               Sentence Sentiment\n",
       "4584  A few employees would remain at the Oulu plant...   neutral\n",
       "177   Comparable net sales are expected to increase ...  positive\n",
       "167   Tesla is recalling 2,700 Model X cars: https:/...  negative\n",
       "5585  Finnish software developer Done Solutions Oyj ...  positive\n",
       "2339  Compagnie de Financement Foncier - Is to issue...   neutral"
      ]
     },
     "execution_count": 6,
     "metadata": {},
     "output_type": "execute_result"
    }
   ],
   "source": [
    "df.head()"
   ]
  },
  {
   "cell_type": "code",
   "execution_count": 7,
   "id": "4643418d-7ba5-46b4-a464-cebedfdf814b",
   "metadata": {},
   "outputs": [
    {
     "data": {
      "text/plain": [
       "2000"
      ]
     },
     "execution_count": 7,
     "metadata": {},
     "output_type": "execute_result"
    }
   ],
   "source": [
    "df.size"
   ]
  },
  {
   "cell_type": "code",
   "execution_count": 8,
   "id": "c0d34ba1-d960-4f4a-bb87-387533f07925",
   "metadata": {},
   "outputs": [
    {
     "name": "stdout",
     "output_type": "stream",
     "text": [
      "Episode 1/10 completed. Epsilon: 0.02\n",
      "Episode 2/10 completed. Epsilon: 0.01\n",
      "Episode 3/10 completed. Epsilon: 0.01\n",
      "Episode 4/10 completed. Epsilon: 0.01\n",
      "Episode 5/10 completed. Epsilon: 0.01\n",
      "Episode 6/10 completed. Epsilon: 0.01\n",
      "Episode 7/10 completed. Epsilon: 0.01\n",
      "Episode 8/10 completed. Epsilon: 0.01\n",
      "Episode 9/10 completed. Epsilon: 0.01\n",
      "Episode 10/10 completed. Epsilon: 0.01\n",
      "Test Accuracy: 43.50%\n"
     ]
    }
   ],
   "source": [
    "df.dropna(inplace=True)  # Remove missing values\n",
    "df.drop_duplicates(inplace=True)  # Remove duplicates\n",
    "df = df[df['Sentiment'].isin(['positive', 'neutral', 'negative'])]  # Keep only known sentiments\n",
    "df['Sentence'] = df['Sentence'].apply(clean_text)  # Clean sentences\n",
    "\n",
    "# Preprocess text and labels\n",
    "sentences = df['Sentence'].values\n",
    "labels = df['Sentiment'].map({'negative': 0, 'neutral': 1, 'positive': 2}).values\n",
    "\n",
    "# TF-IDF encoding\n",
    "vectorizer = TfidfVectorizer(max_features=1000)\n",
    "X = vectorizer.fit_transform(sentences).toarray()\n",
    "\n",
    "# Train-test split\n",
    "X_train, X_test, y_train, y_test = train_test_split(X, labels, test_size=0.2, random_state=42)\n",
    "\n",
    "# DQN Parameters\n",
    "state_size = X.shape[1]\n",
    "num_actions = 3\n",
    "epsilon = 1.0\n",
    "epsilon_min = 0.01\n",
    "epsilon_decay = 0.995\n",
    "gamma = 0.95\n",
    "lr = 0.001\n",
    "batch_size = 64\n",
    "memory = deque(maxlen=2000)\n",
    "\n",
    "# DQN Model\n",
    "class DQN(nn.Module):\n",
    "    def __init__(self, input_dim, output_dim):\n",
    "        super(DQN, self).__init__()\n",
    "        self.fc1 = nn.Linear(input_dim, 128)\n",
    "        self.fc2 = nn.Linear(128, 64)\n",
    "        self.out = nn.Linear(64, output_dim)\n",
    "\n",
    "    def forward(self, x):\n",
    "        x = F.relu(self.fc1(x))\n",
    "        x = F.relu(self.fc2(x))\n",
    "        return self.out(x)\n",
    "\n",
    "model = DQN(state_size, num_actions)\n",
    "optimizer = optim.Adam(model.parameters(), lr=lr)\n",
    "loss_fn = nn.MSELoss()\n",
    "\n",
    "# Epsilon-greedy policy\n",
    "def act(state):\n",
    "    global epsilon\n",
    "    if np.random.rand() <= epsilon:\n",
    "        return random.randrange(num_actions)\n",
    "    state = torch.FloatTensor(state).unsqueeze(0)\n",
    "    with torch.no_grad():\n",
    "        q_values = model(state)\n",
    "    return torch.argmax(q_values).item()\n",
    "\n",
    "# Replay function\n",
    "def replay():\n",
    "    global epsilon\n",
    "    if len(memory) < batch_size:\n",
    "        return\n",
    "    minibatch = random.sample(memory, batch_size)\n",
    "    for state, action, reward, next_state, done in minibatch:\n",
    "        state = torch.FloatTensor(state)\n",
    "        next_state = torch.FloatTensor(next_state)\n",
    "        target = reward\n",
    "        if not done:\n",
    "            target += gamma * torch.max(model(next_state)).item()\n",
    "        target_f = model(state)\n",
    "        target_val = target_f.clone()\n",
    "        target_val[action] = target\n",
    "        optimizer.zero_grad()\n",
    "        loss = loss_fn(target_f, target_val.detach())\n",
    "        loss.backward()\n",
    "        optimizer.step()\n",
    "    if epsilon > epsilon_min:\n",
    "        epsilon *= epsilon_decay\n",
    "\n",
    "# Training loop\n",
    "episodes = 10\n",
    "for e in range(episodes):\n",
    "    for i in range(len(X_train)):\n",
    "        state = X_train[i]\n",
    "        action = act(state)\n",
    "        reward = 1 if action == y_train[i] else -1\n",
    "        done = True  # One-step\n",
    "        next_state = X_train[i]\n",
    "        memory.append((state, action, reward, next_state, done))\n",
    "        replay()\n",
    "    print(f\"Episode {e+1}/{episodes} completed. Epsilon: {epsilon:.2f}\")\n",
    "\n",
    "# Evaluation\n",
    "correct = 0\n",
    "total = len(X_test)\n",
    "for i in range(total):\n",
    "    state = torch.FloatTensor(X_test[i]).unsqueeze(0)\n",
    "    with torch.no_grad():\n",
    "        pred = torch.argmax(model(state)).item()\n",
    "    if pred == y_test[i]:\n",
    "        correct += 1\n",
    "print(f\"Test Accuracy: {100 * correct / total:.2f}%\")"
   ]
  },
  {
   "cell_type": "code",
   "execution_count": null,
   "id": "7bfe8844-8fad-4e59-b026-619b7a2f1e2f",
   "metadata": {},
   "outputs": [],
   "source": []
  }
 ],
 "metadata": {
  "kernelspec": {
   "display_name": "Python 3 (ipykernel)",
   "language": "python",
   "name": "python3"
  },
  "language_info": {
   "codemirror_mode": {
    "name": "ipython",
    "version": 3
   },
   "file_extension": ".py",
   "mimetype": "text/x-python",
   "name": "python",
   "nbconvert_exporter": "python",
   "pygments_lexer": "ipython3",
   "version": "3.11.2"
  }
 },
 "nbformat": 4,
 "nbformat_minor": 5
}
